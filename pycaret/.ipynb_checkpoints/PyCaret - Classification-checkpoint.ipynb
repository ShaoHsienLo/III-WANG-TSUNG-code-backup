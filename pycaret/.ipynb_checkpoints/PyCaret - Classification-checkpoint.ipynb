{
 "cells": [
  {
   "cell_type": "code",
   "execution_count": 1,
   "metadata": {},
   "outputs": [],
   "source": [
    "# install pycaret\n",
    "# !pip3 install --user pycaret\n",
    "# import sys\n",
    "# !{sys.executable} -m pip install pycaret\n",
    "import pandas as pd\n",
    "import os\n",
    "from sklearn.model_selection import train_test_split \n",
    "from pycaret.classification import *\n",
    "import numpy as np"
   ]
  },
  {
   "cell_type": "code",
   "execution_count": 2,
   "metadata": {},
   "outputs": [],
   "source": [
    "df_1_2 = pd.read_csv(\"../labeled-data/1st-2st-labeling/all-labeled-data.csv\")\n",
    "df_3 = pd.read_csv(\"../labeled-data/3st-labeling/all-labeled-data.csv\")\n",
    "data = pd.concat([df_1_2, df_3], ignore_index=True)\n",
    "\n",
    "data = data.drop(columns=data.filter(regex=\"discharge.*\").columns)\n",
    "data = data.drop(columns=data.filter(regex=\".*_count_nonzero\").columns)\n",
    "data = data.drop(columns=[\"original label\"])\n",
    "\n",
    "X = data.drop(columns=[\"final label\"])\n",
    "y = data[\"final label\"]\n",
    "\n",
    "# data = pd.read_csv(\"./input-data/input.csv\")\n",
    "\n",
    "# X = data.drop(columns=[\"label\"])\n",
    "# y = data[\"label\"]"
   ]
  },
  {
   "cell_type": "code",
   "execution_count": 3,
   "metadata": {},
   "outputs": [],
   "source": [
    "X_train, X_test, y_train, y_test = train_test_split(X, y, test_size=0.3, random_state=42, stratify=y)\n",
    "train = pd.concat([X_train, y_train], axis=1)\n",
    "test = pd.concat([X_test, y_test], axis=1)"
   ]
  },
  {
   "cell_type": "code",
   "execution_count": 4,
   "metadata": {},
   "outputs": [],
   "source": [
    "X_train.to_csv(\"X_train.csv\", index=False)"
   ]
  },
  {
   "cell_type": "code",
   "execution_count": 5,
   "metadata": {},
   "outputs": [
    {
     "data": {
      "text/html": [
       "<style type=\"text/css\">\n",
       "#T_fc1e2_row5_col1, #T_fc1e2_row29_col1, #T_fc1e2_row44_col1, #T_fc1e2_row58_col1 {\n",
       "  background-color: lightgreen;\n",
       "}\n",
       "</style>\n",
       "<table id=\"T_fc1e2\">\n",
       "  <thead>\n",
       "    <tr>\n",
       "      <th class=\"blank level0\" >&nbsp;</th>\n",
       "      <th id=\"T_fc1e2_level0_col0\" class=\"col_heading level0 col0\" >Description</th>\n",
       "      <th id=\"T_fc1e2_level0_col1\" class=\"col_heading level0 col1\" >Value</th>\n",
       "    </tr>\n",
       "  </thead>\n",
       "  <tbody>\n",
       "    <tr>\n",
       "      <th id=\"T_fc1e2_level0_row0\" class=\"row_heading level0 row0\" >0</th>\n",
       "      <td id=\"T_fc1e2_row0_col0\" class=\"data row0 col0\" >session_id</td>\n",
       "      <td id=\"T_fc1e2_row0_col1\" class=\"data row0 col1\" >8140</td>\n",
       "    </tr>\n",
       "    <tr>\n",
       "      <th id=\"T_fc1e2_level0_row1\" class=\"row_heading level0 row1\" >1</th>\n",
       "      <td id=\"T_fc1e2_row1_col0\" class=\"data row1 col0\" >Target</td>\n",
       "      <td id=\"T_fc1e2_row1_col1\" class=\"data row1 col1\" >final label</td>\n",
       "    </tr>\n",
       "    <tr>\n",
       "      <th id=\"T_fc1e2_level0_row2\" class=\"row_heading level0 row2\" >2</th>\n",
       "      <td id=\"T_fc1e2_row2_col0\" class=\"data row2 col0\" >Target Type</td>\n",
       "      <td id=\"T_fc1e2_row2_col1\" class=\"data row2 col1\" >Binary</td>\n",
       "    </tr>\n",
       "    <tr>\n",
       "      <th id=\"T_fc1e2_level0_row3\" class=\"row_heading level0 row3\" >3</th>\n",
       "      <td id=\"T_fc1e2_row3_col0\" class=\"data row3 col0\" >Label Encoded</td>\n",
       "      <td id=\"T_fc1e2_row3_col1\" class=\"data row3 col1\" >A: 0, B: 1</td>\n",
       "    </tr>\n",
       "    <tr>\n",
       "      <th id=\"T_fc1e2_level0_row4\" class=\"row_heading level0 row4\" >4</th>\n",
       "      <td id=\"T_fc1e2_row4_col0\" class=\"data row4 col0\" >Original Data</td>\n",
       "      <td id=\"T_fc1e2_row4_col1\" class=\"data row4 col1\" >(412, 53)</td>\n",
       "    </tr>\n",
       "    <tr>\n",
       "      <th id=\"T_fc1e2_level0_row5\" class=\"row_heading level0 row5\" >5</th>\n",
       "      <td id=\"T_fc1e2_row5_col0\" class=\"data row5 col0\" >Missing Values</td>\n",
       "      <td id=\"T_fc1e2_row5_col1\" class=\"data row5 col1\" >True</td>\n",
       "    </tr>\n",
       "    <tr>\n",
       "      <th id=\"T_fc1e2_level0_row6\" class=\"row_heading level0 row6\" >6</th>\n",
       "      <td id=\"T_fc1e2_row6_col0\" class=\"data row6 col0\" >Numeric Features</td>\n",
       "      <td id=\"T_fc1e2_row6_col1\" class=\"data row6 col1\" >52</td>\n",
       "    </tr>\n",
       "    <tr>\n",
       "      <th id=\"T_fc1e2_level0_row7\" class=\"row_heading level0 row7\" >7</th>\n",
       "      <td id=\"T_fc1e2_row7_col0\" class=\"data row7 col0\" >Categorical Features</td>\n",
       "      <td id=\"T_fc1e2_row7_col1\" class=\"data row7 col1\" >0</td>\n",
       "    </tr>\n",
       "    <tr>\n",
       "      <th id=\"T_fc1e2_level0_row8\" class=\"row_heading level0 row8\" >8</th>\n",
       "      <td id=\"T_fc1e2_row8_col0\" class=\"data row8 col0\" >Ordinal Features</td>\n",
       "      <td id=\"T_fc1e2_row8_col1\" class=\"data row8 col1\" >False</td>\n",
       "    </tr>\n",
       "    <tr>\n",
       "      <th id=\"T_fc1e2_level0_row9\" class=\"row_heading level0 row9\" >9</th>\n",
       "      <td id=\"T_fc1e2_row9_col0\" class=\"data row9 col0\" >High Cardinality Features</td>\n",
       "      <td id=\"T_fc1e2_row9_col1\" class=\"data row9 col1\" >False</td>\n",
       "    </tr>\n",
       "    <tr>\n",
       "      <th id=\"T_fc1e2_level0_row10\" class=\"row_heading level0 row10\" >10</th>\n",
       "      <td id=\"T_fc1e2_row10_col0\" class=\"data row10 col0\" >High Cardinality Method</td>\n",
       "      <td id=\"T_fc1e2_row10_col1\" class=\"data row10 col1\" >None</td>\n",
       "    </tr>\n",
       "    <tr>\n",
       "      <th id=\"T_fc1e2_level0_row11\" class=\"row_heading level0 row11\" >11</th>\n",
       "      <td id=\"T_fc1e2_row11_col0\" class=\"data row11 col0\" >Transformed Train Set</td>\n",
       "      <td id=\"T_fc1e2_row11_col1\" class=\"data row11 col1\" >(288, 41)</td>\n",
       "    </tr>\n",
       "    <tr>\n",
       "      <th id=\"T_fc1e2_level0_row12\" class=\"row_heading level0 row12\" >12</th>\n",
       "      <td id=\"T_fc1e2_row12_col0\" class=\"data row12 col0\" >Transformed Test Set</td>\n",
       "      <td id=\"T_fc1e2_row12_col1\" class=\"data row12 col1\" >(124, 41)</td>\n",
       "    </tr>\n",
       "    <tr>\n",
       "      <th id=\"T_fc1e2_level0_row13\" class=\"row_heading level0 row13\" >13</th>\n",
       "      <td id=\"T_fc1e2_row13_col0\" class=\"data row13 col0\" >Shuffle Train-Test</td>\n",
       "      <td id=\"T_fc1e2_row13_col1\" class=\"data row13 col1\" >True</td>\n",
       "    </tr>\n",
       "    <tr>\n",
       "      <th id=\"T_fc1e2_level0_row14\" class=\"row_heading level0 row14\" >14</th>\n",
       "      <td id=\"T_fc1e2_row14_col0\" class=\"data row14 col0\" >Stratify Train-Test</td>\n",
       "      <td id=\"T_fc1e2_row14_col1\" class=\"data row14 col1\" >False</td>\n",
       "    </tr>\n",
       "    <tr>\n",
       "      <th id=\"T_fc1e2_level0_row15\" class=\"row_heading level0 row15\" >15</th>\n",
       "      <td id=\"T_fc1e2_row15_col0\" class=\"data row15 col0\" >Fold Generator</td>\n",
       "      <td id=\"T_fc1e2_row15_col1\" class=\"data row15 col1\" >StratifiedKFold</td>\n",
       "    </tr>\n",
       "    <tr>\n",
       "      <th id=\"T_fc1e2_level0_row16\" class=\"row_heading level0 row16\" >16</th>\n",
       "      <td id=\"T_fc1e2_row16_col0\" class=\"data row16 col0\" >Fold Number</td>\n",
       "      <td id=\"T_fc1e2_row16_col1\" class=\"data row16 col1\" >10</td>\n",
       "    </tr>\n",
       "    <tr>\n",
       "      <th id=\"T_fc1e2_level0_row17\" class=\"row_heading level0 row17\" >17</th>\n",
       "      <td id=\"T_fc1e2_row17_col0\" class=\"data row17 col0\" >CPU Jobs</td>\n",
       "      <td id=\"T_fc1e2_row17_col1\" class=\"data row17 col1\" >-1</td>\n",
       "    </tr>\n",
       "    <tr>\n",
       "      <th id=\"T_fc1e2_level0_row18\" class=\"row_heading level0 row18\" >18</th>\n",
       "      <td id=\"T_fc1e2_row18_col0\" class=\"data row18 col0\" >Use GPU</td>\n",
       "      <td id=\"T_fc1e2_row18_col1\" class=\"data row18 col1\" >False</td>\n",
       "    </tr>\n",
       "    <tr>\n",
       "      <th id=\"T_fc1e2_level0_row19\" class=\"row_heading level0 row19\" >19</th>\n",
       "      <td id=\"T_fc1e2_row19_col0\" class=\"data row19 col0\" >Log Experiment</td>\n",
       "      <td id=\"T_fc1e2_row19_col1\" class=\"data row19 col1\" >False</td>\n",
       "    </tr>\n",
       "    <tr>\n",
       "      <th id=\"T_fc1e2_level0_row20\" class=\"row_heading level0 row20\" >20</th>\n",
       "      <td id=\"T_fc1e2_row20_col0\" class=\"data row20 col0\" >Experiment Name</td>\n",
       "      <td id=\"T_fc1e2_row20_col1\" class=\"data row20 col1\" >clf-default-name</td>\n",
       "    </tr>\n",
       "    <tr>\n",
       "      <th id=\"T_fc1e2_level0_row21\" class=\"row_heading level0 row21\" >21</th>\n",
       "      <td id=\"T_fc1e2_row21_col0\" class=\"data row21 col0\" >USI</td>\n",
       "      <td id=\"T_fc1e2_row21_col1\" class=\"data row21 col1\" >acd5</td>\n",
       "    </tr>\n",
       "    <tr>\n",
       "      <th id=\"T_fc1e2_level0_row22\" class=\"row_heading level0 row22\" >22</th>\n",
       "      <td id=\"T_fc1e2_row22_col0\" class=\"data row22 col0\" >Imputation Type</td>\n",
       "      <td id=\"T_fc1e2_row22_col1\" class=\"data row22 col1\" >simple</td>\n",
       "    </tr>\n",
       "    <tr>\n",
       "      <th id=\"T_fc1e2_level0_row23\" class=\"row_heading level0 row23\" >23</th>\n",
       "      <td id=\"T_fc1e2_row23_col0\" class=\"data row23 col0\" >Iterative Imputation Iteration</td>\n",
       "      <td id=\"T_fc1e2_row23_col1\" class=\"data row23 col1\" >None</td>\n",
       "    </tr>\n",
       "    <tr>\n",
       "      <th id=\"T_fc1e2_level0_row24\" class=\"row_heading level0 row24\" >24</th>\n",
       "      <td id=\"T_fc1e2_row24_col0\" class=\"data row24 col0\" >Numeric Imputer</td>\n",
       "      <td id=\"T_fc1e2_row24_col1\" class=\"data row24 col1\" >mean</td>\n",
       "    </tr>\n",
       "    <tr>\n",
       "      <th id=\"T_fc1e2_level0_row25\" class=\"row_heading level0 row25\" >25</th>\n",
       "      <td id=\"T_fc1e2_row25_col0\" class=\"data row25 col0\" >Iterative Imputation Numeric Model</td>\n",
       "      <td id=\"T_fc1e2_row25_col1\" class=\"data row25 col1\" >None</td>\n",
       "    </tr>\n",
       "    <tr>\n",
       "      <th id=\"T_fc1e2_level0_row26\" class=\"row_heading level0 row26\" >26</th>\n",
       "      <td id=\"T_fc1e2_row26_col0\" class=\"data row26 col0\" >Categorical Imputer</td>\n",
       "      <td id=\"T_fc1e2_row26_col1\" class=\"data row26 col1\" >constant</td>\n",
       "    </tr>\n",
       "    <tr>\n",
       "      <th id=\"T_fc1e2_level0_row27\" class=\"row_heading level0 row27\" >27</th>\n",
       "      <td id=\"T_fc1e2_row27_col0\" class=\"data row27 col0\" >Iterative Imputation Categorical Model</td>\n",
       "      <td id=\"T_fc1e2_row27_col1\" class=\"data row27 col1\" >None</td>\n",
       "    </tr>\n",
       "    <tr>\n",
       "      <th id=\"T_fc1e2_level0_row28\" class=\"row_heading level0 row28\" >28</th>\n",
       "      <td id=\"T_fc1e2_row28_col0\" class=\"data row28 col0\" >Unknown Categoricals Handling</td>\n",
       "      <td id=\"T_fc1e2_row28_col1\" class=\"data row28 col1\" >least_frequent</td>\n",
       "    </tr>\n",
       "    <tr>\n",
       "      <th id=\"T_fc1e2_level0_row29\" class=\"row_heading level0 row29\" >29</th>\n",
       "      <td id=\"T_fc1e2_row29_col0\" class=\"data row29 col0\" >Normalize</td>\n",
       "      <td id=\"T_fc1e2_row29_col1\" class=\"data row29 col1\" >True</td>\n",
       "    </tr>\n",
       "    <tr>\n",
       "      <th id=\"T_fc1e2_level0_row30\" class=\"row_heading level0 row30\" >30</th>\n",
       "      <td id=\"T_fc1e2_row30_col0\" class=\"data row30 col0\" >Normalize Method</td>\n",
       "      <td id=\"T_fc1e2_row30_col1\" class=\"data row30 col1\" >zscore</td>\n",
       "    </tr>\n",
       "    <tr>\n",
       "      <th id=\"T_fc1e2_level0_row31\" class=\"row_heading level0 row31\" >31</th>\n",
       "      <td id=\"T_fc1e2_row31_col0\" class=\"data row31 col0\" >Transformation</td>\n",
       "      <td id=\"T_fc1e2_row31_col1\" class=\"data row31 col1\" >False</td>\n",
       "    </tr>\n",
       "    <tr>\n",
       "      <th id=\"T_fc1e2_level0_row32\" class=\"row_heading level0 row32\" >32</th>\n",
       "      <td id=\"T_fc1e2_row32_col0\" class=\"data row32 col0\" >Transformation Method</td>\n",
       "      <td id=\"T_fc1e2_row32_col1\" class=\"data row32 col1\" >None</td>\n",
       "    </tr>\n",
       "    <tr>\n",
       "      <th id=\"T_fc1e2_level0_row33\" class=\"row_heading level0 row33\" >33</th>\n",
       "      <td id=\"T_fc1e2_row33_col0\" class=\"data row33 col0\" >PCA</td>\n",
       "      <td id=\"T_fc1e2_row33_col1\" class=\"data row33 col1\" >False</td>\n",
       "    </tr>\n",
       "    <tr>\n",
       "      <th id=\"T_fc1e2_level0_row34\" class=\"row_heading level0 row34\" >34</th>\n",
       "      <td id=\"T_fc1e2_row34_col0\" class=\"data row34 col0\" >PCA Method</td>\n",
       "      <td id=\"T_fc1e2_row34_col1\" class=\"data row34 col1\" >None</td>\n",
       "    </tr>\n",
       "    <tr>\n",
       "      <th id=\"T_fc1e2_level0_row35\" class=\"row_heading level0 row35\" >35</th>\n",
       "      <td id=\"T_fc1e2_row35_col0\" class=\"data row35 col0\" >PCA Components</td>\n",
       "      <td id=\"T_fc1e2_row35_col1\" class=\"data row35 col1\" >None</td>\n",
       "    </tr>\n",
       "    <tr>\n",
       "      <th id=\"T_fc1e2_level0_row36\" class=\"row_heading level0 row36\" >36</th>\n",
       "      <td id=\"T_fc1e2_row36_col0\" class=\"data row36 col0\" >Ignore Low Variance</td>\n",
       "      <td id=\"T_fc1e2_row36_col1\" class=\"data row36 col1\" >False</td>\n",
       "    </tr>\n",
       "    <tr>\n",
       "      <th id=\"T_fc1e2_level0_row37\" class=\"row_heading level0 row37\" >37</th>\n",
       "      <td id=\"T_fc1e2_row37_col0\" class=\"data row37 col0\" >Combine Rare Levels</td>\n",
       "      <td id=\"T_fc1e2_row37_col1\" class=\"data row37 col1\" >False</td>\n",
       "    </tr>\n",
       "    <tr>\n",
       "      <th id=\"T_fc1e2_level0_row38\" class=\"row_heading level0 row38\" >38</th>\n",
       "      <td id=\"T_fc1e2_row38_col0\" class=\"data row38 col0\" >Rare Level Threshold</td>\n",
       "      <td id=\"T_fc1e2_row38_col1\" class=\"data row38 col1\" >None</td>\n",
       "    </tr>\n",
       "    <tr>\n",
       "      <th id=\"T_fc1e2_level0_row39\" class=\"row_heading level0 row39\" >39</th>\n",
       "      <td id=\"T_fc1e2_row39_col0\" class=\"data row39 col0\" >Numeric Binning</td>\n",
       "      <td id=\"T_fc1e2_row39_col1\" class=\"data row39 col1\" >False</td>\n",
       "    </tr>\n",
       "    <tr>\n",
       "      <th id=\"T_fc1e2_level0_row40\" class=\"row_heading level0 row40\" >40</th>\n",
       "      <td id=\"T_fc1e2_row40_col0\" class=\"data row40 col0\" >Remove Outliers</td>\n",
       "      <td id=\"T_fc1e2_row40_col1\" class=\"data row40 col1\" >False</td>\n",
       "    </tr>\n",
       "    <tr>\n",
       "      <th id=\"T_fc1e2_level0_row41\" class=\"row_heading level0 row41\" >41</th>\n",
       "      <td id=\"T_fc1e2_row41_col0\" class=\"data row41 col0\" >Outliers Threshold</td>\n",
       "      <td id=\"T_fc1e2_row41_col1\" class=\"data row41 col1\" >None</td>\n",
       "    </tr>\n",
       "    <tr>\n",
       "      <th id=\"T_fc1e2_level0_row42\" class=\"row_heading level0 row42\" >42</th>\n",
       "      <td id=\"T_fc1e2_row42_col0\" class=\"data row42 col0\" >Remove Multicollinearity</td>\n",
       "      <td id=\"T_fc1e2_row42_col1\" class=\"data row42 col1\" >False</td>\n",
       "    </tr>\n",
       "    <tr>\n",
       "      <th id=\"T_fc1e2_level0_row43\" class=\"row_heading level0 row43\" >43</th>\n",
       "      <td id=\"T_fc1e2_row43_col0\" class=\"data row43 col0\" >Multicollinearity Threshold</td>\n",
       "      <td id=\"T_fc1e2_row43_col1\" class=\"data row43 col1\" >None</td>\n",
       "    </tr>\n",
       "    <tr>\n",
       "      <th id=\"T_fc1e2_level0_row44\" class=\"row_heading level0 row44\" >44</th>\n",
       "      <td id=\"T_fc1e2_row44_col0\" class=\"data row44 col0\" >Remove Perfect Collinearity</td>\n",
       "      <td id=\"T_fc1e2_row44_col1\" class=\"data row44 col1\" >True</td>\n",
       "    </tr>\n",
       "    <tr>\n",
       "      <th id=\"T_fc1e2_level0_row45\" class=\"row_heading level0 row45\" >45</th>\n",
       "      <td id=\"T_fc1e2_row45_col0\" class=\"data row45 col0\" >Clustering</td>\n",
       "      <td id=\"T_fc1e2_row45_col1\" class=\"data row45 col1\" >False</td>\n",
       "    </tr>\n",
       "    <tr>\n",
       "      <th id=\"T_fc1e2_level0_row46\" class=\"row_heading level0 row46\" >46</th>\n",
       "      <td id=\"T_fc1e2_row46_col0\" class=\"data row46 col0\" >Clustering Iteration</td>\n",
       "      <td id=\"T_fc1e2_row46_col1\" class=\"data row46 col1\" >None</td>\n",
       "    </tr>\n",
       "    <tr>\n",
       "      <th id=\"T_fc1e2_level0_row47\" class=\"row_heading level0 row47\" >47</th>\n",
       "      <td id=\"T_fc1e2_row47_col0\" class=\"data row47 col0\" >Polynomial Features</td>\n",
       "      <td id=\"T_fc1e2_row47_col1\" class=\"data row47 col1\" >False</td>\n",
       "    </tr>\n",
       "    <tr>\n",
       "      <th id=\"T_fc1e2_level0_row48\" class=\"row_heading level0 row48\" >48</th>\n",
       "      <td id=\"T_fc1e2_row48_col0\" class=\"data row48 col0\" >Polynomial Degree</td>\n",
       "      <td id=\"T_fc1e2_row48_col1\" class=\"data row48 col1\" >None</td>\n",
       "    </tr>\n",
       "    <tr>\n",
       "      <th id=\"T_fc1e2_level0_row49\" class=\"row_heading level0 row49\" >49</th>\n",
       "      <td id=\"T_fc1e2_row49_col0\" class=\"data row49 col0\" >Trignometry Features</td>\n",
       "      <td id=\"T_fc1e2_row49_col1\" class=\"data row49 col1\" >False</td>\n",
       "    </tr>\n",
       "    <tr>\n",
       "      <th id=\"T_fc1e2_level0_row50\" class=\"row_heading level0 row50\" >50</th>\n",
       "      <td id=\"T_fc1e2_row50_col0\" class=\"data row50 col0\" >Polynomial Threshold</td>\n",
       "      <td id=\"T_fc1e2_row50_col1\" class=\"data row50 col1\" >None</td>\n",
       "    </tr>\n",
       "    <tr>\n",
       "      <th id=\"T_fc1e2_level0_row51\" class=\"row_heading level0 row51\" >51</th>\n",
       "      <td id=\"T_fc1e2_row51_col0\" class=\"data row51 col0\" >Group Features</td>\n",
       "      <td id=\"T_fc1e2_row51_col1\" class=\"data row51 col1\" >False</td>\n",
       "    </tr>\n",
       "    <tr>\n",
       "      <th id=\"T_fc1e2_level0_row52\" class=\"row_heading level0 row52\" >52</th>\n",
       "      <td id=\"T_fc1e2_row52_col0\" class=\"data row52 col0\" >Feature Selection</td>\n",
       "      <td id=\"T_fc1e2_row52_col1\" class=\"data row52 col1\" >False</td>\n",
       "    </tr>\n",
       "    <tr>\n",
       "      <th id=\"T_fc1e2_level0_row53\" class=\"row_heading level0 row53\" >53</th>\n",
       "      <td id=\"T_fc1e2_row53_col0\" class=\"data row53 col0\" >Feature Selection Method</td>\n",
       "      <td id=\"T_fc1e2_row53_col1\" class=\"data row53 col1\" >classic</td>\n",
       "    </tr>\n",
       "    <tr>\n",
       "      <th id=\"T_fc1e2_level0_row54\" class=\"row_heading level0 row54\" >54</th>\n",
       "      <td id=\"T_fc1e2_row54_col0\" class=\"data row54 col0\" >Features Selection Threshold</td>\n",
       "      <td id=\"T_fc1e2_row54_col1\" class=\"data row54 col1\" >None</td>\n",
       "    </tr>\n",
       "    <tr>\n",
       "      <th id=\"T_fc1e2_level0_row55\" class=\"row_heading level0 row55\" >55</th>\n",
       "      <td id=\"T_fc1e2_row55_col0\" class=\"data row55 col0\" >Feature Interaction</td>\n",
       "      <td id=\"T_fc1e2_row55_col1\" class=\"data row55 col1\" >False</td>\n",
       "    </tr>\n",
       "    <tr>\n",
       "      <th id=\"T_fc1e2_level0_row56\" class=\"row_heading level0 row56\" >56</th>\n",
       "      <td id=\"T_fc1e2_row56_col0\" class=\"data row56 col0\" >Feature Ratio</td>\n",
       "      <td id=\"T_fc1e2_row56_col1\" class=\"data row56 col1\" >False</td>\n",
       "    </tr>\n",
       "    <tr>\n",
       "      <th id=\"T_fc1e2_level0_row57\" class=\"row_heading level0 row57\" >57</th>\n",
       "      <td id=\"T_fc1e2_row57_col0\" class=\"data row57 col0\" >Interaction Threshold</td>\n",
       "      <td id=\"T_fc1e2_row57_col1\" class=\"data row57 col1\" >None</td>\n",
       "    </tr>\n",
       "    <tr>\n",
       "      <th id=\"T_fc1e2_level0_row58\" class=\"row_heading level0 row58\" >58</th>\n",
       "      <td id=\"T_fc1e2_row58_col0\" class=\"data row58 col0\" >Fix Imbalance</td>\n",
       "      <td id=\"T_fc1e2_row58_col1\" class=\"data row58 col1\" >True</td>\n",
       "    </tr>\n",
       "    <tr>\n",
       "      <th id=\"T_fc1e2_level0_row59\" class=\"row_heading level0 row59\" >59</th>\n",
       "      <td id=\"T_fc1e2_row59_col0\" class=\"data row59 col0\" >Fix Imbalance Method</td>\n",
       "      <td id=\"T_fc1e2_row59_col1\" class=\"data row59 col1\" >SMOTE</td>\n",
       "    </tr>\n",
       "  </tbody>\n",
       "</table>\n"
      ],
      "text/plain": [
       "<pandas.io.formats.style.Styler at 0x25228412d30>"
      ]
     },
     "metadata": {},
     "output_type": "display_data"
    }
   ],
   "source": [
    "s = setup(data=data, target=\"final label\", numeric_features=list(X.columns), fix_imbalance=True, \n",
    "          feature_selection=False, normalize=True)"
   ]
  },
  {
   "cell_type": "code",
   "execution_count": 7,
   "metadata": {},
   "outputs": [
    {
     "data": {
      "text/html": [
       "<style type=\"text/css\">\n",
       "#T_bac4d th {\n",
       "  text-align: left;\n",
       "}\n",
       "#T_bac4d_row0_col0, #T_bac4d_row0_col1, #T_bac4d_row0_col4, #T_bac4d_row0_col5, #T_bac4d_row0_col6, #T_bac4d_row0_col7, #T_bac4d_row1_col0, #T_bac4d_row1_col1, #T_bac4d_row1_col2, #T_bac4d_row1_col4, #T_bac4d_row1_col5, #T_bac4d_row1_col6, #T_bac4d_row1_col7, #T_bac4d_row2_col0, #T_bac4d_row2_col2, #T_bac4d_row2_col3, #T_bac4d_row3_col0, #T_bac4d_row3_col1, #T_bac4d_row3_col2, #T_bac4d_row3_col3, #T_bac4d_row3_col4, #T_bac4d_row3_col5, #T_bac4d_row3_col6, #T_bac4d_row3_col7 {\n",
       "  text-align: left;\n",
       "}\n",
       "#T_bac4d_row0_col2, #T_bac4d_row0_col3, #T_bac4d_row1_col3, #T_bac4d_row2_col1, #T_bac4d_row2_col4, #T_bac4d_row2_col5, #T_bac4d_row2_col6, #T_bac4d_row2_col7 {\n",
       "  text-align: left;\n",
       "  background-color: yellow;\n",
       "}\n",
       "#T_bac4d_row0_col8, #T_bac4d_row1_col8, #T_bac4d_row2_col8 {\n",
       "  text-align: left;\n",
       "  background-color: lightgrey;\n",
       "}\n",
       "#T_bac4d_row3_col8 {\n",
       "  text-align: left;\n",
       "  background-color: yellow;\n",
       "  background-color: lightgrey;\n",
       "}\n",
       "</style>\n",
       "<table id=\"T_bac4d\">\n",
       "  <thead>\n",
       "    <tr>\n",
       "      <th class=\"blank level0\" >&nbsp;</th>\n",
       "      <th id=\"T_bac4d_level0_col0\" class=\"col_heading level0 col0\" >Model</th>\n",
       "      <th id=\"T_bac4d_level0_col1\" class=\"col_heading level0 col1\" >Accuracy</th>\n",
       "      <th id=\"T_bac4d_level0_col2\" class=\"col_heading level0 col2\" >AUC</th>\n",
       "      <th id=\"T_bac4d_level0_col3\" class=\"col_heading level0 col3\" >Recall</th>\n",
       "      <th id=\"T_bac4d_level0_col4\" class=\"col_heading level0 col4\" >Prec.</th>\n",
       "      <th id=\"T_bac4d_level0_col5\" class=\"col_heading level0 col5\" >F1</th>\n",
       "      <th id=\"T_bac4d_level0_col6\" class=\"col_heading level0 col6\" >Kappa</th>\n",
       "      <th id=\"T_bac4d_level0_col7\" class=\"col_heading level0 col7\" >MCC</th>\n",
       "      <th id=\"T_bac4d_level0_col8\" class=\"col_heading level0 col8\" >TT (Sec)</th>\n",
       "    </tr>\n",
       "  </thead>\n",
       "  <tbody>\n",
       "    <tr>\n",
       "      <th id=\"T_bac4d_level0_row0\" class=\"row_heading level0 row0\" >rf</th>\n",
       "      <td id=\"T_bac4d_row0_col0\" class=\"data row0 col0\" >Random Forest Classifier</td>\n",
       "      <td id=\"T_bac4d_row0_col1\" class=\"data row0 col1\" >0.9307</td>\n",
       "      <td id=\"T_bac4d_row0_col2\" class=\"data row0 col2\" >0.9778</td>\n",
       "      <td id=\"T_bac4d_row0_col3\" class=\"data row0 col3\" >0.9306</td>\n",
       "      <td id=\"T_bac4d_row0_col4\" class=\"data row0 col4\" >0.8571</td>\n",
       "      <td id=\"T_bac4d_row0_col5\" class=\"data row0 col5\" >0.8901</td>\n",
       "      <td id=\"T_bac4d_row0_col6\" class=\"data row0 col6\" >0.8396</td>\n",
       "      <td id=\"T_bac4d_row0_col7\" class=\"data row0 col7\" >0.8434</td>\n",
       "      <td id=\"T_bac4d_row0_col8\" class=\"data row0 col8\" >0.0720</td>\n",
       "    </tr>\n",
       "    <tr>\n",
       "      <th id=\"T_bac4d_level0_row1\" class=\"row_heading level0 row1\" >lightgbm</th>\n",
       "      <td id=\"T_bac4d_row1_col0\" class=\"data row1 col0\" >Light Gradient Boosting Machine</td>\n",
       "      <td id=\"T_bac4d_row1_col1\" class=\"data row1 col1\" >0.9271</td>\n",
       "      <td id=\"T_bac4d_row1_col2\" class=\"data row1 col2\" >0.9699</td>\n",
       "      <td id=\"T_bac4d_row1_col3\" class=\"data row1 col3\" >0.9306</td>\n",
       "      <td id=\"T_bac4d_row1_col4\" class=\"data row1 col4\" >0.8484</td>\n",
       "      <td id=\"T_bac4d_row1_col5\" class=\"data row1 col5\" >0.8849</td>\n",
       "      <td id=\"T_bac4d_row1_col6\" class=\"data row1 col6\" >0.8319</td>\n",
       "      <td id=\"T_bac4d_row1_col7\" class=\"data row1 col7\" >0.8366</td>\n",
       "      <td id=\"T_bac4d_row1_col8\" class=\"data row1 col8\" >0.0330</td>\n",
       "    </tr>\n",
       "    <tr>\n",
       "      <th id=\"T_bac4d_level0_row2\" class=\"row_heading level0 row2\" >et</th>\n",
       "      <td id=\"T_bac4d_row2_col0\" class=\"data row2 col0\" >Extra Trees Classifier</td>\n",
       "      <td id=\"T_bac4d_row2_col1\" class=\"data row2 col1\" >0.9409</td>\n",
       "      <td id=\"T_bac4d_row2_col2\" class=\"data row2 col2\" >0.9757</td>\n",
       "      <td id=\"T_bac4d_row2_col3\" class=\"data row2 col3\" >0.9069</td>\n",
       "      <td id=\"T_bac4d_row2_col4\" class=\"data row2 col4\" >0.9020</td>\n",
       "      <td id=\"T_bac4d_row2_col5\" class=\"data row2 col5\" >0.9019</td>\n",
       "      <td id=\"T_bac4d_row2_col6\" class=\"data row2 col6\" >0.8596</td>\n",
       "      <td id=\"T_bac4d_row2_col7\" class=\"data row2 col7\" >0.8622</td>\n",
       "      <td id=\"T_bac4d_row2_col8\" class=\"data row2 col8\" >0.0560</td>\n",
       "    </tr>\n",
       "    <tr>\n",
       "      <th id=\"T_bac4d_level0_row3\" class=\"row_heading level0 row3\" >dt</th>\n",
       "      <td id=\"T_bac4d_row3_col0\" class=\"data row3 col0\" >Decision Tree Classifier</td>\n",
       "      <td id=\"T_bac4d_row3_col1\" class=\"data row3 col1\" >0.8645</td>\n",
       "      <td id=\"T_bac4d_row3_col2\" class=\"data row3 col2\" >0.8362</td>\n",
       "      <td id=\"T_bac4d_row3_col3\" class=\"data row3 col3\" >0.7667</td>\n",
       "      <td id=\"T_bac4d_row3_col4\" class=\"data row3 col4\" >0.7988</td>\n",
       "      <td id=\"T_bac4d_row3_col5\" class=\"data row3 col5\" >0.7749</td>\n",
       "      <td id=\"T_bac4d_row3_col6\" class=\"data row3 col6\" >0.6787</td>\n",
       "      <td id=\"T_bac4d_row3_col7\" class=\"data row3 col7\" >0.6856</td>\n",
       "      <td id=\"T_bac4d_row3_col8\" class=\"data row3 col8\" >0.0080</td>\n",
       "    </tr>\n",
       "  </tbody>\n",
       "</table>\n"
      ],
      "text/plain": [
       "<pandas.io.formats.style.Styler at 0x2522897f100>"
      ]
     },
     "metadata": {},
     "output_type": "display_data"
    }
   ],
   "source": [
    "best = compare_models(['et', 'rf', 'dt', 'lightgbm'], n_select=4, sort='Recall')"
   ]
  },
  {
   "cell_type": "code",
   "execution_count": 9,
   "metadata": {},
   "outputs": [
    {
     "data": {
      "text/plain": [
       "LGBMClassifier(boosting_type='gbdt', class_weight=None, colsample_bytree=1.0,\n",
       "               importance_type='split', learning_rate=0.1, max_depth=-1,\n",
       "               min_child_samples=20, min_child_weight=0.001, min_split_gain=0.0,\n",
       "               n_estimators=100, n_jobs=-1, num_leaves=31, objective=None,\n",
       "               random_state=8140, reg_alpha=0.0, reg_lambda=0.0, silent='warn',\n",
       "               subsample=1.0, subsample_for_bin=200000, subsample_freq=0)"
      ]
     },
     "execution_count": 9,
     "metadata": {},
     "output_type": "execute_result"
    }
   ],
   "source": [
    "lightgbm = best[1]\n",
    "lightgbm"
   ]
  },
  {
   "cell_type": "code",
   "execution_count": 11,
   "metadata": {},
   "outputs": [
    {
     "name": "stdout",
     "output_type": "stream",
     "text": [
      "Transformation Pipeline and Model Successfully Saved\n"
     ]
    },
    {
     "data": {
      "text/plain": [
       "(LGBMClassifier(boosting_type='gbdt', class_weight=None, colsample_bytree=1.0,\n",
       "                importance_type='split', learning_rate=0.1, max_depth=-1,\n",
       "                min_child_samples=20, min_child_weight=0.001, min_split_gain=0.0,\n",
       "                n_estimators=100, n_jobs=-1, num_leaves=31, objective=None,\n",
       "                random_state=8140, reg_alpha=0.0, reg_lambda=0.0, silent='warn',\n",
       "                subsample=1.0, subsample_for_bin=200000, subsample_freq=0),\n",
       " 'lightgbm.pkl')"
      ]
     },
     "execution_count": 11,
     "metadata": {},
     "output_type": "execute_result"
    }
   ],
   "source": [
    "save_model(lightgbm, model_name=\"lightgbm\", model_only=True)"
   ]
  },
  {
   "cell_type": "code",
   "execution_count": 12,
   "metadata": {
    "scrolled": true
   },
   "outputs": [
    {
     "name": "stdout",
     "output_type": "stream",
     "text": [
      "Transformation Pipeline and Model Successfully Loaded\n"
     ]
    },
    {
     "data": {
      "text/plain": [
       "LGBMClassifier(boosting_type='gbdt', class_weight=None, colsample_bytree=1.0,\n",
       "               importance_type='split', learning_rate=0.1, max_depth=-1,\n",
       "               min_child_samples=20, min_child_weight=0.001, min_split_gain=0.0,\n",
       "               n_estimators=100, n_jobs=-1, num_leaves=31, objective=None,\n",
       "               random_state=8140, reg_alpha=0.0, reg_lambda=0.0, silent='warn',\n",
       "               subsample=1.0, subsample_for_bin=200000, subsample_freq=0)"
      ]
     },
     "execution_count": 12,
     "metadata": {},
     "output_type": "execute_result"
    }
   ],
   "source": [
    "model = load_model(\"lightgbm\")\n",
    "model"
   ]
  },
  {
   "cell_type": "code",
   "execution_count": 23,
   "metadata": {},
   "outputs": [],
   "source": [
    "features = get_config('X_test').columns"
   ]
  },
  {
   "cell_type": "code",
   "execution_count": 28,
   "metadata": {},
   "outputs": [
    {
     "data": {
      "text/plain": [
       "41"
      ]
     },
     "execution_count": 28,
     "metadata": {},
     "output_type": "execute_result"
    }
   ],
   "source": [
    "len(features)"
   ]
  },
  {
   "cell_type": "code",
   "execution_count": 24,
   "metadata": {},
   "outputs": [
    {
     "data": {
      "text/plain": [
       "array([ 4.86748541e+02,  4.87568075e+02,  5.07167515e+02,  3.42459013e+02,\n",
       "        1.53381053e+01,  2.35257474e+02,  8.27472521e+04, -4.88140623e+00,\n",
       "        4.53605779e+01,  4.73947266e+02,  1.64708502e+02,  2.03260487e+01,\n",
       "        1.17637897e+00,  1.50427706e+02,  1.47342673e+02,  6.14063473e-01,\n",
       "        3.77073949e-01,  2.27687248e+04,  7.47972507e-02, -2.20603066e-01,\n",
       "        1.48458659e+02,  3.08503316e+00,  8.57423897e-01,  4.18936350e+02,\n",
       "        4.18114074e+02,  2.77224668e-01,  6.40972615e+04,  5.25139276e-01,\n",
       "       -1.35392999e+00,  5.55348184e+02,  5.66299974e+02,  5.07860728e+02,\n",
       "        1.58408037e+01,  2.50931061e+02,  8.49682722e+04, -2.06362348e+00,\n",
       "        2.75683058e+00,  5.62992802e+02,  5.84392459e+01,  7.33777352e+00,\n",
       "        1.28065307e+00])"
      ]
     },
     "execution_count": 24,
     "metadata": {},
     "output_type": "execute_result"
    }
   ],
   "source": [
    "explain_data = X_test[features].to_numpy()[0]\n",
    "explain_data"
   ]
  },
  {
   "cell_type": "code",
   "execution_count": 25,
   "metadata": {},
   "outputs": [
    {
     "data": {
      "text/plain": [
       "array([[0.02711496, 0.97288504]])"
      ]
     },
     "execution_count": 25,
     "metadata": {},
     "output_type": "execute_result"
    }
   ],
   "source": [
    "model.predict_proba(explain_data.reshape(1, -1))"
   ]
  },
  {
   "cell_type": "code",
   "execution_count": 26,
   "metadata": {},
   "outputs": [],
   "source": [
    "from lime.lime_tabular import LimeTabularExplainer\n",
    "import random\n",
    "import numpy as np"
   ]
  },
  {
   "cell_type": "code",
   "execution_count": 31,
   "metadata": {},
   "outputs": [
    {
     "data": {
      "text/plain": [
       "array([ 3.54089767e+02,  3.02875251e+02,  4.83436378e+02,  3.01999278e+02,\n",
       "        8.09318175e+01,  6.54995908e+03,  3.39926176e+04,  9.57919993e-01,\n",
       "       -1.08902630e+00,  3.02879870e+02,  1.81437101e+02,  1.78031370e+02,\n",
       "        8.26006903e+00,  3.44025944e+02,  3.45221499e+02,  3.49773298e+02,\n",
       "        3.33771672e+02,  4.18375907e+00,  1.75038399e+01,  3.30264906e+04,\n",
       "       -6.78048419e-01, -6.49385858e-01,  3.44994457e+02,  1.60016263e+01,\n",
       "        6.88423441e+00,  4.27003122e-01,  4.14949594e+02,  4.15220185e+02,\n",
       "        4.15729345e+02,  4.14092339e+02,  5.27509416e-01,  2.78266184e-01,\n",
       "        3.98351610e+04, -3.96930142e-01, -1.55090756e+00,  4.15446183e+02,\n",
       "        1.63700562e+00,  1.00341003e+00,  5.38387043e-02,  5.28507254e+02,\n",
       "        5.39762145e+02,  5.42790597e+02,  4.65800451e+02,  2.18181368e+01,\n",
       "        4.76031094e+02,  5.07366964e+04, -1.70609071e+00,  1.68825367e+00,\n",
       "        5.41192000e+02,  7.69901458e+01,  1.63098065e+01,  2.22680426e+00])"
      ]
     },
     "execution_count": 31,
     "metadata": {},
     "output_type": "execute_result"
    }
   ],
   "source": [
    "X_test.to_numpy()[48]"
   ]
  },
  {
   "cell_type": "code",
   "execution_count": 30,
   "metadata": {},
   "outputs": [
    {
     "name": "stdout",
     "output_type": "stream",
     "text": [
      "48\n"
     ]
    },
    {
     "ename": "ValueError",
     "evalue": "Domain error in arguments.",
     "output_type": "error",
     "traceback": [
      "\u001b[1;31m---------------------------------------------------------------------------\u001b[0m",
      "\u001b[1;31mValueError\u001b[0m                                Traceback (most recent call last)",
      "Cell \u001b[1;32mIn [30], line 5\u001b[0m\n\u001b[0;32m      3\u001b[0m i \u001b[38;5;241m=\u001b[39m random\u001b[38;5;241m.\u001b[39mrandint(\u001b[38;5;241m0\u001b[39m, X_test\u001b[38;5;241m.\u001b[39mshape[\u001b[38;5;241m0\u001b[39m])\n\u001b[0;32m      4\u001b[0m \u001b[38;5;28mprint\u001b[39m(i)\n\u001b[1;32m----> 5\u001b[0m exp \u001b[38;5;241m=\u001b[39m \u001b[43mexplainer\u001b[49m\u001b[38;5;241;43m.\u001b[39;49m\u001b[43mexplain_instance\u001b[49m\u001b[43m(\u001b[49m\u001b[43mX_test\u001b[49m\u001b[38;5;241;43m.\u001b[39;49m\u001b[43mto_numpy\u001b[49m\u001b[43m(\u001b[49m\u001b[43m)\u001b[49m\u001b[43m[\u001b[49m\u001b[43mi\u001b[49m\u001b[43m]\u001b[49m\u001b[43m,\u001b[49m\u001b[43m \u001b[49m\u001b[43mlightgbm\u001b[49m\u001b[38;5;241;43m.\u001b[39;49m\u001b[43mpredict_proba\u001b[49m\u001b[43m)\u001b[49m\n\u001b[0;32m      6\u001b[0m exp\u001b[38;5;241m.\u001b[39mshow_in_notebook(show_table\u001b[38;5;241m=\u001b[39m\u001b[38;5;28;01mTrue\u001b[39;00m)\n",
      "File \u001b[1;32m~\\Anaconda3\\envs\\pycaret\\lib\\site-packages\\lime\\lime_tabular.py:340\u001b[0m, in \u001b[0;36mLimeTabularExplainer.explain_instance\u001b[1;34m(self, data_row, predict_fn, labels, top_labels, num_features, num_samples, distance_metric, model_regressor)\u001b[0m\n\u001b[0;32m    337\u001b[0m \u001b[38;5;28;01mif\u001b[39;00m sp\u001b[38;5;241m.\u001b[39msparse\u001b[38;5;241m.\u001b[39missparse(data_row) \u001b[38;5;129;01mand\u001b[39;00m \u001b[38;5;129;01mnot\u001b[39;00m sp\u001b[38;5;241m.\u001b[39msparse\u001b[38;5;241m.\u001b[39misspmatrix_csr(data_row):\n\u001b[0;32m    338\u001b[0m     \u001b[38;5;66;03m# Preventative code: if sparse, convert to csr format if not in csr format already\u001b[39;00m\n\u001b[0;32m    339\u001b[0m     data_row \u001b[38;5;241m=\u001b[39m data_row\u001b[38;5;241m.\u001b[39mtocsr()\n\u001b[1;32m--> 340\u001b[0m data, inverse \u001b[38;5;241m=\u001b[39m \u001b[38;5;28;43mself\u001b[39;49m\u001b[38;5;241;43m.\u001b[39;49m\u001b[43m__data_inverse\u001b[49m\u001b[43m(\u001b[49m\u001b[43mdata_row\u001b[49m\u001b[43m,\u001b[49m\u001b[43m \u001b[49m\u001b[43mnum_samples\u001b[49m\u001b[43m)\u001b[49m\n\u001b[0;32m    341\u001b[0m \u001b[38;5;28;01mif\u001b[39;00m sp\u001b[38;5;241m.\u001b[39msparse\u001b[38;5;241m.\u001b[39missparse(data):\n\u001b[0;32m    342\u001b[0m     \u001b[38;5;66;03m# Note in sparse case we don't subtract mean since data would become dense\u001b[39;00m\n\u001b[0;32m    343\u001b[0m     scaled_data \u001b[38;5;241m=\u001b[39m data\u001b[38;5;241m.\u001b[39mmultiply(\u001b[38;5;28mself\u001b[39m\u001b[38;5;241m.\u001b[39mscaler\u001b[38;5;241m.\u001b[39mscale_)\n",
      "File \u001b[1;32m~\\Anaconda3\\envs\\pycaret\\lib\\site-packages\\lime\\lime_tabular.py:550\u001b[0m, in \u001b[0;36mLimeTabularExplainer.__data_inverse\u001b[1;34m(self, data_row, num_samples)\u001b[0m\n\u001b[0;32m    548\u001b[0m     inverse[:, column] \u001b[38;5;241m=\u001b[39m inverse_column\n\u001b[0;32m    549\u001b[0m \u001b[38;5;28;01mif\u001b[39;00m \u001b[38;5;28mself\u001b[39m\u001b[38;5;241m.\u001b[39mdiscretizer \u001b[38;5;129;01mis\u001b[39;00m \u001b[38;5;129;01mnot\u001b[39;00m \u001b[38;5;28;01mNone\u001b[39;00m:\n\u001b[1;32m--> 550\u001b[0m     inverse[\u001b[38;5;241m1\u001b[39m:] \u001b[38;5;241m=\u001b[39m \u001b[38;5;28;43mself\u001b[39;49m\u001b[38;5;241;43m.\u001b[39;49m\u001b[43mdiscretizer\u001b[49m\u001b[38;5;241;43m.\u001b[39;49m\u001b[43mundiscretize\u001b[49m\u001b[43m(\u001b[49m\u001b[43minverse\u001b[49m\u001b[43m[\u001b[49m\u001b[38;5;241;43m1\u001b[39;49m\u001b[43m:\u001b[49m\u001b[43m]\u001b[49m\u001b[43m)\u001b[49m\n\u001b[0;32m    551\u001b[0m inverse[\u001b[38;5;241m0\u001b[39m] \u001b[38;5;241m=\u001b[39m data_row\n\u001b[0;32m    552\u001b[0m \u001b[38;5;28;01mreturn\u001b[39;00m data, inverse\n",
      "File \u001b[1;32m~\\Anaconda3\\envs\\pycaret\\lib\\site-packages\\lime\\discretize.py:144\u001b[0m, in \u001b[0;36mBaseDiscretizer.undiscretize\u001b[1;34m(self, data)\u001b[0m\n\u001b[0;32m    140\u001b[0m         ret[feature] \u001b[38;5;241m=\u001b[39m \u001b[38;5;28mself\u001b[39m\u001b[38;5;241m.\u001b[39mget_undiscretize_values(\n\u001b[0;32m    141\u001b[0m             feature, ret[feature]\u001b[38;5;241m.\u001b[39mastype(\u001b[38;5;28mint\u001b[39m)\u001b[38;5;241m.\u001b[39mreshape(\u001b[38;5;241m-\u001b[39m\u001b[38;5;241m1\u001b[39m, \u001b[38;5;241m1\u001b[39m)\n\u001b[0;32m    142\u001b[0m         )\n\u001b[0;32m    143\u001b[0m     \u001b[38;5;28;01melse\u001b[39;00m:\n\u001b[1;32m--> 144\u001b[0m         ret[:, feature] \u001b[38;5;241m=\u001b[39m \u001b[38;5;28;43mself\u001b[39;49m\u001b[38;5;241;43m.\u001b[39;49m\u001b[43mget_undiscretize_values\u001b[49m\u001b[43m(\u001b[49m\n\u001b[0;32m    145\u001b[0m \u001b[43m            \u001b[49m\u001b[43mfeature\u001b[49m\u001b[43m,\u001b[49m\u001b[43m \u001b[49m\u001b[43mret\u001b[49m\u001b[43m[\u001b[49m\u001b[43m:\u001b[49m\u001b[43m,\u001b[49m\u001b[43m \u001b[49m\u001b[43mfeature\u001b[49m\u001b[43m]\u001b[49m\u001b[38;5;241;43m.\u001b[39;49m\u001b[43mastype\u001b[49m\u001b[43m(\u001b[49m\u001b[38;5;28;43mint\u001b[39;49m\u001b[43m)\u001b[49m\n\u001b[0;32m    146\u001b[0m \u001b[43m        \u001b[49m\u001b[43m)\u001b[49m\n\u001b[0;32m    147\u001b[0m \u001b[38;5;28;01mreturn\u001b[39;00m ret\n",
      "File \u001b[1;32m~\\Anaconda3\\envs\\pycaret\\lib\\site-packages\\lime\\discretize.py:127\u001b[0m, in \u001b[0;36mBaseDiscretizer.get_undiscretize_values\u001b[1;34m(self, feature, values)\u001b[0m\n\u001b[0;32m    124\u001b[0m min_max_unequal \u001b[38;5;241m=\u001b[39m (minz \u001b[38;5;241m!=\u001b[39m maxz)\n\u001b[0;32m    126\u001b[0m ret \u001b[38;5;241m=\u001b[39m minz\n\u001b[1;32m--> 127\u001b[0m ret[np\u001b[38;5;241m.\u001b[39mwhere(min_max_unequal)] \u001b[38;5;241m=\u001b[39m \u001b[43mscipy\u001b[49m\u001b[38;5;241;43m.\u001b[39;49m\u001b[43mstats\u001b[49m\u001b[38;5;241;43m.\u001b[39;49m\u001b[43mtruncnorm\u001b[49m\u001b[38;5;241;43m.\u001b[39;49m\u001b[43mrvs\u001b[49m\u001b[43m(\u001b[49m\n\u001b[0;32m    128\u001b[0m \u001b[43m    \u001b[49m\u001b[43mminz\u001b[49m\u001b[43m[\u001b[49m\u001b[43mmin_max_unequal\u001b[49m\u001b[43m]\u001b[49m\u001b[43m,\u001b[49m\n\u001b[0;32m    129\u001b[0m \u001b[43m    \u001b[49m\u001b[43mmaxz\u001b[49m\u001b[43m[\u001b[49m\u001b[43mmin_max_unequal\u001b[49m\u001b[43m]\u001b[49m\u001b[43m,\u001b[49m\n\u001b[0;32m    130\u001b[0m \u001b[43m    \u001b[49m\u001b[43mloc\u001b[49m\u001b[38;5;241;43m=\u001b[39;49m\u001b[43mmeans\u001b[49m\u001b[43m[\u001b[49m\u001b[43mmin_max_unequal\u001b[49m\u001b[43m]\u001b[49m\u001b[43m,\u001b[49m\n\u001b[0;32m    131\u001b[0m \u001b[43m    \u001b[49m\u001b[43mscale\u001b[49m\u001b[38;5;241;43m=\u001b[39;49m\u001b[43mstds\u001b[49m\u001b[43m[\u001b[49m\u001b[43mmin_max_unequal\u001b[49m\u001b[43m]\u001b[49m\u001b[43m,\u001b[49m\n\u001b[0;32m    132\u001b[0m \u001b[43m    \u001b[49m\u001b[43mrandom_state\u001b[49m\u001b[38;5;241;43m=\u001b[39;49m\u001b[38;5;28;43mself\u001b[39;49m\u001b[38;5;241;43m.\u001b[39;49m\u001b[43mrandom_state\u001b[49m\n\u001b[0;32m    133\u001b[0m \u001b[43m\u001b[49m\u001b[43m)\u001b[49m\n\u001b[0;32m    134\u001b[0m \u001b[38;5;28;01mreturn\u001b[39;00m ret\n",
      "File \u001b[1;32m~\\Anaconda3\\envs\\pycaret\\lib\\site-packages\\scipy\\stats\\_distn_infrastructure.py:1068\u001b[0m, in \u001b[0;36mrv_generic.rvs\u001b[1;34m(self, *args, **kwds)\u001b[0m\n\u001b[0;32m   1066\u001b[0m cond \u001b[38;5;241m=\u001b[39m logical_and(\u001b[38;5;28mself\u001b[39m\u001b[38;5;241m.\u001b[39m_argcheck(\u001b[38;5;241m*\u001b[39margs), (scale \u001b[38;5;241m>\u001b[39m\u001b[38;5;241m=\u001b[39m \u001b[38;5;241m0\u001b[39m))\n\u001b[0;32m   1067\u001b[0m \u001b[38;5;28;01mif\u001b[39;00m \u001b[38;5;129;01mnot\u001b[39;00m np\u001b[38;5;241m.\u001b[39mall(cond):\n\u001b[1;32m-> 1068\u001b[0m     \u001b[38;5;28;01mraise\u001b[39;00m \u001b[38;5;167;01mValueError\u001b[39;00m(\u001b[38;5;124m\"\u001b[39m\u001b[38;5;124mDomain error in arguments.\u001b[39m\u001b[38;5;124m\"\u001b[39m)\n\u001b[0;32m   1070\u001b[0m \u001b[38;5;28;01mif\u001b[39;00m np\u001b[38;5;241m.\u001b[39mall(scale \u001b[38;5;241m==\u001b[39m \u001b[38;5;241m0\u001b[39m):\n\u001b[0;32m   1071\u001b[0m     \u001b[38;5;28;01mreturn\u001b[39;00m loc\u001b[38;5;241m*\u001b[39mones(size, \u001b[38;5;124m'\u001b[39m\u001b[38;5;124md\u001b[39m\u001b[38;5;124m'\u001b[39m)\n",
      "\u001b[1;31mValueError\u001b[0m: Domain error in arguments."
     ]
    }
   ],
   "source": [
    "explainer = LimeTabularExplainer(X_train.values, feature_names=X_train.columns, class_names=['A', 'B'], \n",
    "                                 mode='classification')\n",
    "i = random.randint(0, X_test.shape[0])\n",
    "print(i)\n",
    "exp = explainer.explain_instance(X_test.to_numpy()[i], lightgbm.predict_proba)\n",
    "exp.show_in_notebook(show_table=True)"
   ]
  }
 ],
 "metadata": {
  "kernelspec": {
   "display_name": "pycaret",
   "language": "python",
   "name": "pycaret"
  },
  "language_info": {
   "codemirror_mode": {
    "name": "ipython",
    "version": 3
   },
   "file_extension": ".py",
   "mimetype": "text/x-python",
   "name": "python",
   "nbconvert_exporter": "python",
   "pygments_lexer": "ipython3",
   "version": "3.8.13"
  }
 },
 "nbformat": 4,
 "nbformat_minor": 2
}
